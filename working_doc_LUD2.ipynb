{
 "cells": [
  {
   "cell_type": "code",
   "execution_count": 8,
   "id": "1c4ffc88badbdda6",
   "metadata": {
    "collapsed": true,
    "ExecuteTime": {
     "end_time": "2023-08-09T08:27:48.550496700Z",
     "start_time": "2023-08-09T08:27:48.544313100Z"
    }
   },
   "outputs": [],
   "source": [
    "import pandas as pd\n",
    "from passlib.context import CryptContext\n",
    "from sources.utils import get_root\n",
    "import os\n",
    "from pathlib import Path"
   ]
  },
  {
   "cell_type": "code",
   "execution_count": 5,
   "outputs": [],
   "source": [
    "\n",
    "pwd_context = CryptContext(schemes=[\"bcrypt\"], deprecated=\"auto\")\n",
    "users = {\n",
    "\n",
    "    \"daniel\" :{\n",
    "        \"username\": \"daniel\",\n",
    "        \"password\": pwd_context.hash('datascientest'),\n",
    "    },\n",
    "    \"john\" : {\n",
    "        \"username\" :  \"john\",\n",
    "        \"password\" : pwd_context.hash('secret'),\n",
    "    },\n",
    "    \"lucie\" :{\n",
    "        \"username\": \"lucie\",\n",
    "        \"password\" : pwd_context.hash('ravie')\n",
    "    }\n",
    "}"
   ],
   "metadata": {
    "collapsed": false,
    "ExecuteTime": {
     "end_time": "2023-08-09T07:14:50.163138100Z",
     "start_time": "2023-08-09T07:14:49.532370200Z"
    }
   },
   "id": "initial_id"
  },
  {
   "cell_type": "code",
   "execution_count": 6,
   "outputs": [
    {
     "ename": "KeyError",
     "evalue": "0",
     "output_type": "error",
     "traceback": [
      "\u001B[1;31m---------------------------------------------------------------------------\u001B[0m",
      "\u001B[1;31mKeyError\u001B[0m                                  Traceback (most recent call last)",
      "Input \u001B[1;32mIn [6]\u001B[0m, in \u001B[0;36m<cell line: 2>\u001B[1;34m()\u001B[0m\n\u001B[0;32m      1\u001B[0m \u001B[38;5;66;03m# Open a file in write mode.\u001B[39;00m\n\u001B[0;32m      2\u001B[0m \u001B[38;5;28;01mwith\u001B[39;00m \u001B[38;5;28mopen\u001B[39m(\u001B[38;5;124m'\u001B[39m\u001B[38;5;124musers.csv\u001B[39m\u001B[38;5;124m'\u001B[39m, \u001B[38;5;124m'\u001B[39m\u001B[38;5;124mw\u001B[39m\u001B[38;5;124m'\u001B[39m) \u001B[38;5;28;01mas\u001B[39;00m f:\n\u001B[0;32m      3\u001B[0m     \u001B[38;5;66;03m# Write all the dictionary keys in a file with commas separated.\u001B[39;00m\n\u001B[1;32m----> 4\u001B[0m     f\u001B[38;5;241m.\u001B[39mwrite(\u001B[38;5;124m'\u001B[39m\u001B[38;5;124m,\u001B[39m\u001B[38;5;124m'\u001B[39m\u001B[38;5;241m.\u001B[39mjoin(\u001B[43musers\u001B[49m\u001B[43m[\u001B[49m\u001B[38;5;241;43m0\u001B[39;49m\u001B[43m]\u001B[49m\u001B[38;5;241m.\u001B[39mkeys()))\n\u001B[0;32m      5\u001B[0m     f\u001B[38;5;241m.\u001B[39mwrite(\u001B[38;5;124m'\u001B[39m\u001B[38;5;130;01m\\n\u001B[39;00m\u001B[38;5;124m'\u001B[39m) \u001B[38;5;66;03m# Add a new line\u001B[39;00m\n\u001B[0;32m      6\u001B[0m     \u001B[38;5;28;01mfor\u001B[39;00m row \u001B[38;5;129;01min\u001B[39;00m users:\n\u001B[0;32m      7\u001B[0m         \u001B[38;5;66;03m# Write the values in a row.\u001B[39;00m\n",
      "\u001B[1;31mKeyError\u001B[0m: 0"
     ]
    }
   ],
   "source": [
    "# Open a file in write mode.\n",
    "with open('users.csv', 'w') as f:\n",
    "    # Write all the dictionary keys in a file with commas separated.\n",
    "    f.write(','.join(users[0].keys()))\n",
    "    f.write('\\n') # Add a new line\n",
    "    for row in users:\n",
    "        # Write the values in a row.\n",
    "        f.write(','.join(str(x) for x in row.values()))\n",
    "        f.write('\\n') # Add a new line"
   ],
   "metadata": {
    "collapsed": false,
    "ExecuteTime": {
     "end_time": "2023-08-09T07:14:50.184800100Z",
     "start_time": "2023-08-09T07:14:50.168401Z"
    }
   },
   "id": "67963dccae8dfc38"
  },
  {
   "cell_type": "code",
   "execution_count": 13,
   "outputs": [],
   "source": [
    "df= pd.read_csv(os.path.join(get_root(), 'users.csv'))"
   ],
   "metadata": {
    "collapsed": false,
    "ExecuteTime": {
     "end_time": "2023-08-09T09:03:08.763131900Z",
     "start_time": "2023-08-09T09:03:08.735071200Z"
    }
   },
   "id": "7bcb4a7d8011c7b5"
  },
  {
   "cell_type": "code",
   "execution_count": 14,
   "outputs": [
    {
     "data": {
      "text/plain": "Index(['username', 'password'], dtype='object')"
     },
     "execution_count": 14,
     "metadata": {},
     "output_type": "execute_result"
    }
   ],
   "source": [
    "df.columns"
   ],
   "metadata": {
    "collapsed": false,
    "ExecuteTime": {
     "end_time": "2023-08-09T09:03:11.953102300Z",
     "start_time": "2023-08-09T09:03:11.937668500Z"
    }
   },
   "id": "3d828e4303d78b55"
  },
  {
   "cell_type": "code",
   "execution_count": 12,
   "outputs": [
    {
     "name": "stdout",
     "output_type": "stream",
     "text": [
      "C:\\Users\\lucie\\SmashTheOdds\\users.csv\n"
     ]
    }
   ],
   "source": [
    "csv_path = os.path.join(get_root(), 'users.csv')\n",
    "print(csv_path)\n",
    "#generate_config(csv_path, \"config.py\")"
   ],
   "metadata": {
    "collapsed": false,
    "ExecuteTime": {
     "end_time": "2023-08-09T09:01:48.856181400Z",
     "start_time": "2023-08-09T09:01:48.796470700Z"
    }
   },
   "id": "d6f5de71036da854"
  },
  {
   "cell_type": "code",
   "execution_count": 15,
   "outputs": [
    {
     "name": "stdout",
     "output_type": "stream",
     "text": [
      "https://api.sportradar.com/tennis/trial/v2/fr/matches/sr:match:42024053/summary.json\n",
      "200\n"
     ]
    },
    {
     "name": "stderr",
     "output_type": "stream",
     "text": [
      "C:\\Users\\lucie\\SmashTheOdds\\sources\\utils.py:57: SettingWithCopyWarning: \n",
      "A value is trying to be set on a copy of a slice from a DataFrame.\n",
      "Try using .loc[row_indexer,col_indexer] = value instead\n",
      "\n",
      "See the caveats in the documentation: https://pandas.pydata.org/pandas-docs/stable/user_guide/indexing.html#returning-a-view-versus-a-copy\n",
      "  dataframe[['player1_id', 'player2_id']] = dataframe[['player1_id', 'player2_id']].replace(player_rank_mapping)\n",
      "C:\\Users\\lucie\\SmashTheOdds\\sources\\utils.py:59: SettingWithCopyWarning: \n",
      "A value is trying to be set on a copy of a slice from a DataFrame.\n",
      "Try using .loc[row_indexer,col_indexer] = value instead\n",
      "\n",
      "See the caveats in the documentation: https://pandas.pydata.org/pandas-docs/stable/user_guide/indexing.html#returning-a-view-versus-a-copy\n",
      "  dataframe['player1_id'] = dataframe['player1_id'].replace(to_replace='^.*$', value=unranked, regex=True)\n",
      "C:\\Users\\lucie\\SmashTheOdds\\sources\\utils.py:60: SettingWithCopyWarning: \n",
      "A value is trying to be set on a copy of a slice from a DataFrame.\n",
      "Try using .loc[row_indexer,col_indexer] = value instead\n",
      "\n",
      "See the caveats in the documentation: https://pandas.pydata.org/pandas-docs/stable/user_guide/indexing.html#returning-a-view-versus-a-copy\n",
      "  dataframe['player2_id'] = dataframe['player2_id'].replace(to_replace='^.*$', value=unranked, regex=True)\n",
      "C:\\Users\\lucie\\SmashTheOdds\\sources\\data_pipeline.py:71: SettingWithCopyWarning: \n",
      "A value is trying to be set on a copy of a slice from a DataFrame.\n",
      "Try using .loc[row_indexer,col_indexer] = value instead\n",
      "\n",
      "See the caveats in the documentation: https://pandas.pydata.org/pandas-docs/stable/user_guide/indexing.html#returning-a-view-versus-a-copy\n",
      "  df.loc[:, 'atp_difference'] = df['player2_id'] - df['player1_id']\n"
     ]
    },
    {
     "data": {
      "text/plain": "{'classe': 1, 'proba': [0.5, 0.5], 'odds': [2.02, 1.98]}"
     },
     "execution_count": 15,
     "metadata": {},
     "output_type": "execute_result"
    }
   ],
   "source": [
    "from sources.data_pipeline import global_transformer\n",
    "from sources.preprocessor import get_match_info\n",
    "from sources.utils import get_last_model, get_response\n",
    "import joblib\n",
    "\n",
    "\n",
    "def get_pred(match_id: int):\n",
    "    model = joblib.load(get_last_model())\n",
    "    match_info = get_match_info(match_id=match_id)\n",
    "    try:\n",
    "        data = global_transformer(match_info[['player1_id', 'player2_id']])\n",
    "        return get_response(model=model, data=data)\n",
    "    except TypeError:\n",
    "        return match_info\n",
    "\n",
    "get_pred(42024053)"
   ],
   "metadata": {
    "collapsed": false,
    "ExecuteTime": {
     "end_time": "2023-08-09T13:36:46.562133100Z",
     "start_time": "2023-08-09T13:36:27.786527400Z"
    }
   },
   "id": "fe5ff8923b236d44"
  },
  {
   "cell_type": "code",
   "execution_count": 18,
   "outputs": [],
   "source": [
    "# -*- coding: utf-8 -*-\n",
    "\"\"\"\n",
    "Created on 24/05/2023 22:07\n",
    "@author: GiovanniMINGHELLI\n",
    "\"\"\"\n",
    "import os\n",
    "from typing import List\n",
    "\n",
    "import pandas as pd\n",
    "from tqdm import tqdm\n",
    "from datetime import date\n",
    "from sources.get_data import Tennis\n",
    "from sources.utils import get_number_in_id, check_file_modification, get_root\n",
    "from sources.week_calendar import get_next_seven_days\n",
    "\n",
    "today = date.today()\n",
    "\n",
    "\n",
    "def prep_daily_results(year=today.year, month=today.month, day=today.day):\n",
    "    return Tennis().get_daily_results(year=year, month=month, day=day)\n",
    "\n",
    "\n",
    "def get_weekly_schedule():\n",
    "    df_list = []\n",
    "    for date in get_next_seven_days():\n",
    "        year, month, day = map(int, date.split('-'))\n",
    "        response = Tennis().get_daily_schedule(year=year, month=month, day=day)\n",
    "        if response.status_code != 200:\n",
    "            return response.json()\n",
    "        response_data = response.json()\n",
    "        if 'sport_events' in response_data and response_data['sport_events']:\n",
    "            df_response = pd.json_normalize(response_data['sport_events'])\n",
    "            df_response = pd.json_normalize(response.json()['sport_events'])\n",
    "            df_response[['player1', 'player2']] = df_response['competitors'].apply(pd.Series)\n",
    "            player1_df = pd.json_normalize(df_response['player1']).add_prefix('player1_') # type: ignore\n",
    "            player2_df = pd.json_normalize(df_response['player2']).add_prefix('player2_') # type: ignore\n",
    "\n",
    "            df = pd.concat([df_response, player1_df, player2_df], axis=1)\n",
    "            df_list.append(df)\n",
    "    return pd.concat(df_list, axis=0, ignore_index=True)\n",
    "\n",
    "\n"
   ],
   "metadata": {
    "collapsed": false,
    "ExecuteTime": {
     "end_time": "2023-08-10T10:36:14.114438900Z",
     "start_time": "2023-08-10T10:36:14.096123600Z"
    }
   },
   "id": "26488c152926a31c"
  },
  {
   "cell_type": "code",
   "execution_count": 19,
   "outputs": [
    {
     "name": "stdout",
     "output_type": "stream",
     "text": [
      "https://api.sportradar.com/tennis/trial/v2/fr/schedules/2023-08-10/schedule.json\n",
      "200\n",
      "https://api.sportradar.com/tennis/trial/v2/fr/schedules/2023-08-11/schedule.json\n",
      "200\n",
      "https://api.sportradar.com/tennis/trial/v2/fr/schedules/2023-08-12/schedule.json\n",
      "200\n",
      "https://api.sportradar.com/tennis/trial/v2/fr/schedules/2023-08-13/schedule.json\n",
      "200\n",
      "https://api.sportradar.com/tennis/trial/v2/fr/schedules/2023-08-14/schedule.json\n",
      "200\n",
      "https://api.sportradar.com/tennis/trial/v2/fr/schedules/2023-08-15/schedule.json\n",
      "200\n",
      "https://api.sportradar.com/tennis/trial/v2/fr/schedules/2023-08-16/schedule.json\n",
      "200\n"
     ]
    },
    {
     "name": "stderr",
     "output_type": "stream",
     "text": [
      "C:\\Users\\lucie\\anaconda3\\lib\\site-packages\\IPython\\lib\\pretty.py:778: FutureWarning: In a future version, object-dtype columns with all-bool values will not be included in reductions with bool_only=True. Explicitly cast to bool dtype instead.\n",
      "  output = repr(obj)\n",
      "C:\\Users\\lucie\\anaconda3\\lib\\site-packages\\IPython\\core\\formatters.py:343: FutureWarning: In a future version, object-dtype columns with all-bool values will not be included in reductions with bool_only=True. Explicitly cast to bool dtype instead.\n",
      "  return method()\n"
     ]
    },
    {
     "data": {
      "text/plain": "                    id                  scheduled  start_time_tbd  \\\n0    sr:match:42697623  2023-08-10T00:10:00+00:00           False   \n1    sr:match:42696687  2023-08-10T00:15:00+00:00           False   \n2    sr:match:42750361  2023-08-10T00:20:00+00:00           False   \n3    sr:match:42803175  2023-08-10T00:25:00+00:00           False   \n4    sr:match:42747269  2023-08-10T00:30:00+00:00           False   \n..                 ...                        ...             ...   \n606  sr:match:42854099  2023-08-16T17:00:00+00:00            True   \n607  sr:match:42854101  2023-08-16T17:00:00+00:00            True   \n608  sr:match:42854103  2023-08-16T17:00:00+00:00            True   \n609  sr:match:42854105  2023-08-16T17:00:00+00:00            True   \n610  sr:match:42854119  2023-08-16T17:00:00+00:00            True   \n\n          status                                        competitors  \\\n0         closed  [{'id': 'sr:competitor:19704', 'name': 'Martic...   \n1         closed  [{'id': 'sr:competitor:203681', 'name': 'Korda...   \n2         closed  [{'id': 'sr:competitor:1042205', 'name': 'Belt...   \n3         closed  [{'id': 'sr:competitor:1024889', 'name': 'Kala...   \n4         closed  [{'id': 'sr:competitor:1042089', 'name': 'Ried...   \n..           ...                                                ...   \n606  not_started  [{'id': 'sr:competitor:837880', 'name': 'R16P9...   \n607  not_started  [{'id': 'sr:competitor:837868', 'name': 'R16P3...   \n608  not_started  [{'id': 'sr:competitor:837872', 'name': 'R16P5...   \n609  not_started  [{'id': 'sr:competitor:837864', 'name': 'R16P1...   \n610  not_started  [{'id': 'sr:competitor:837892', 'name': 'R16P1...   \n\n    sport_event_type  estimated tournament_round.type tournament_round.name  \\\n0            singles       True                   cup           round_of_32   \n1            singles       True                   cup           round_of_32   \n2            doubles       True                   cup           round_of_16   \n3            doubles       True                   cup           round_of_16   \n4            doubles       True                   cup           round_of_16   \n..               ...        ...                   ...                   ...   \n606          doubles       True                   cup           round_of_16   \n607          doubles       True                   cup           round_of_16   \n608          doubles       True                   cup           round_of_16   \n609          doubles       True                   cup           round_of_16   \n610          doubles       True                   cup           round_of_16   \n\n     tournament_round.cup_round_match_number  ...  \\\n0                                        1.0  ...   \n1                                        1.0  ...   \n2                                        1.0  ...   \n3                                        NaN  ...   \n4                                        1.0  ...   \n..                                       ...  ...   \n606                                      1.0  ...   \n607                                      1.0  ...   \n608                                      1.0  ...   \n609                                      1.0  ...   \n610                                      1.0  ...   \n\n                       player2_name player2_nationality player2_abbreviation  \\\n0                  Sabalenka, Aryna             Neutral                  SAB   \n1                 Vukic, Aleksandar           Australie                  VUK   \n2              Carou, I / Monzon, I                 NaN                  C/M   \n3    Bondarenko, K / Yamalapalli, S                 NaN                  B/Y   \n4          Hong, S / Shimabukuro, S                 NaN                  H/S   \n..                              ...                 ...                  ...   \n606                          R16P10                 NaN                  R16   \n607                           R16P4                 NaN                  R16   \n608                           R16P6                 NaN                  R16   \n609                           R16P2                 NaN                  R16   \n610                          R16P16                 NaN                  R16   \n\n    player2_seed player2_bracket_number player2_qualifier  \\\n0            2.0                   64.0              away   \n1            NaN                   23.0              away   \n2            NaN                    8.0              away   \n3            NaN                    2.0              away   \n4            NaN                    8.0              away   \n..           ...                    ...               ...   \n606          NaN                    NaN              away   \n607          NaN                    NaN              away   \n608          NaN                    NaN              away   \n609          NaN                    NaN              away   \n610          NaN                    NaN              away   \n\n    player2_country_code                                    player2_players  \\\n0                    NaN                                                NaN   \n1                    AUS                                                NaN   \n2                    NaN  [{'id': 'sr:competitor:107483', 'name': 'Monzo...   \n3                    NaN  [{'id': 'sr:competitor:18742', 'name': 'Bondar...   \n4                    NaN  [{'id': 'sr:competitor:97977', 'name': 'Hong, ...   \n..                   ...                                                ...   \n606                  NaN                                                NaN   \n607                  NaN                                                NaN   \n608                  NaN                                                NaN   \n609                  NaN                                                NaN   \n610                  NaN                                                NaN   \n\n    player1_virtual player2_virtual  \n0               NaN             NaN  \n1               NaN             NaN  \n2               NaN             NaN  \n3               NaN             NaN  \n4               NaN             NaN  \n..              ...             ...  \n606            True            True  \n607            True            True  \n608            True            True  \n609            True            True  \n610            True            True  \n\n[611 rows x 57 columns]",
      "text/html": "<div>\n<style scoped>\n    .dataframe tbody tr th:only-of-type {\n        vertical-align: middle;\n    }\n\n    .dataframe tbody tr th {\n        vertical-align: top;\n    }\n\n    .dataframe thead th {\n        text-align: right;\n    }\n</style>\n<table border=\"1\" class=\"dataframe\">\n  <thead>\n    <tr style=\"text-align: right;\">\n      <th></th>\n      <th>id</th>\n      <th>scheduled</th>\n      <th>start_time_tbd</th>\n      <th>status</th>\n      <th>competitors</th>\n      <th>sport_event_type</th>\n      <th>estimated</th>\n      <th>tournament_round.type</th>\n      <th>tournament_round.name</th>\n      <th>tournament_round.cup_round_match_number</th>\n      <th>...</th>\n      <th>player2_name</th>\n      <th>player2_nationality</th>\n      <th>player2_abbreviation</th>\n      <th>player2_seed</th>\n      <th>player2_bracket_number</th>\n      <th>player2_qualifier</th>\n      <th>player2_country_code</th>\n      <th>player2_players</th>\n      <th>player1_virtual</th>\n      <th>player2_virtual</th>\n    </tr>\n  </thead>\n  <tbody>\n    <tr>\n      <th>0</th>\n      <td>sr:match:42697623</td>\n      <td>2023-08-10T00:10:00+00:00</td>\n      <td>False</td>\n      <td>closed</td>\n      <td>[{'id': 'sr:competitor:19704', 'name': 'Martic...</td>\n      <td>singles</td>\n      <td>True</td>\n      <td>cup</td>\n      <td>round_of_32</td>\n      <td>1.0</td>\n      <td>...</td>\n      <td>Sabalenka, Aryna</td>\n      <td>Neutral</td>\n      <td>SAB</td>\n      <td>2.0</td>\n      <td>64.0</td>\n      <td>away</td>\n      <td>NaN</td>\n      <td>NaN</td>\n      <td>NaN</td>\n      <td>NaN</td>\n    </tr>\n    <tr>\n      <th>1</th>\n      <td>sr:match:42696687</td>\n      <td>2023-08-10T00:15:00+00:00</td>\n      <td>False</td>\n      <td>closed</td>\n      <td>[{'id': 'sr:competitor:203681', 'name': 'Korda...</td>\n      <td>singles</td>\n      <td>True</td>\n      <td>cup</td>\n      <td>round_of_32</td>\n      <td>1.0</td>\n      <td>...</td>\n      <td>Vukic, Aleksandar</td>\n      <td>Australie</td>\n      <td>VUK</td>\n      <td>NaN</td>\n      <td>23.0</td>\n      <td>away</td>\n      <td>AUS</td>\n      <td>NaN</td>\n      <td>NaN</td>\n      <td>NaN</td>\n    </tr>\n    <tr>\n      <th>2</th>\n      <td>sr:match:42750361</td>\n      <td>2023-08-10T00:20:00+00:00</td>\n      <td>False</td>\n      <td>closed</td>\n      <td>[{'id': 'sr:competitor:1042205', 'name': 'Belt...</td>\n      <td>doubles</td>\n      <td>True</td>\n      <td>cup</td>\n      <td>round_of_16</td>\n      <td>1.0</td>\n      <td>...</td>\n      <td>Carou, I / Monzon, I</td>\n      <td>NaN</td>\n      <td>C/M</td>\n      <td>NaN</td>\n      <td>8.0</td>\n      <td>away</td>\n      <td>NaN</td>\n      <td>[{'id': 'sr:competitor:107483', 'name': 'Monzo...</td>\n      <td>NaN</td>\n      <td>NaN</td>\n    </tr>\n    <tr>\n      <th>3</th>\n      <td>sr:match:42803175</td>\n      <td>2023-08-10T00:25:00+00:00</td>\n      <td>False</td>\n      <td>closed</td>\n      <td>[{'id': 'sr:competitor:1024889', 'name': 'Kala...</td>\n      <td>doubles</td>\n      <td>True</td>\n      <td>cup</td>\n      <td>round_of_16</td>\n      <td>NaN</td>\n      <td>...</td>\n      <td>Bondarenko, K / Yamalapalli, S</td>\n      <td>NaN</td>\n      <td>B/Y</td>\n      <td>NaN</td>\n      <td>2.0</td>\n      <td>away</td>\n      <td>NaN</td>\n      <td>[{'id': 'sr:competitor:18742', 'name': 'Bondar...</td>\n      <td>NaN</td>\n      <td>NaN</td>\n    </tr>\n    <tr>\n      <th>4</th>\n      <td>sr:match:42747269</td>\n      <td>2023-08-10T00:30:00+00:00</td>\n      <td>False</td>\n      <td>closed</td>\n      <td>[{'id': 'sr:competitor:1042089', 'name': 'Ried...</td>\n      <td>doubles</td>\n      <td>True</td>\n      <td>cup</td>\n      <td>round_of_16</td>\n      <td>1.0</td>\n      <td>...</td>\n      <td>Hong, S / Shimabukuro, S</td>\n      <td>NaN</td>\n      <td>H/S</td>\n      <td>NaN</td>\n      <td>8.0</td>\n      <td>away</td>\n      <td>NaN</td>\n      <td>[{'id': 'sr:competitor:97977', 'name': 'Hong, ...</td>\n      <td>NaN</td>\n      <td>NaN</td>\n    </tr>\n    <tr>\n      <th>...</th>\n      <td>...</td>\n      <td>...</td>\n      <td>...</td>\n      <td>...</td>\n      <td>...</td>\n      <td>...</td>\n      <td>...</td>\n      <td>...</td>\n      <td>...</td>\n      <td>...</td>\n      <td>...</td>\n      <td>...</td>\n      <td>...</td>\n      <td>...</td>\n      <td>...</td>\n      <td>...</td>\n      <td>...</td>\n      <td>...</td>\n      <td>...</td>\n      <td>...</td>\n      <td>...</td>\n    </tr>\n    <tr>\n      <th>606</th>\n      <td>sr:match:42854099</td>\n      <td>2023-08-16T17:00:00+00:00</td>\n      <td>True</td>\n      <td>not_started</td>\n      <td>[{'id': 'sr:competitor:837880', 'name': 'R16P9...</td>\n      <td>doubles</td>\n      <td>True</td>\n      <td>cup</td>\n      <td>round_of_16</td>\n      <td>1.0</td>\n      <td>...</td>\n      <td>R16P10</td>\n      <td>NaN</td>\n      <td>R16</td>\n      <td>NaN</td>\n      <td>NaN</td>\n      <td>away</td>\n      <td>NaN</td>\n      <td>NaN</td>\n      <td>True</td>\n      <td>True</td>\n    </tr>\n    <tr>\n      <th>607</th>\n      <td>sr:match:42854101</td>\n      <td>2023-08-16T17:00:00+00:00</td>\n      <td>True</td>\n      <td>not_started</td>\n      <td>[{'id': 'sr:competitor:837868', 'name': 'R16P3...</td>\n      <td>doubles</td>\n      <td>True</td>\n      <td>cup</td>\n      <td>round_of_16</td>\n      <td>1.0</td>\n      <td>...</td>\n      <td>R16P4</td>\n      <td>NaN</td>\n      <td>R16</td>\n      <td>NaN</td>\n      <td>NaN</td>\n      <td>away</td>\n      <td>NaN</td>\n      <td>NaN</td>\n      <td>True</td>\n      <td>True</td>\n    </tr>\n    <tr>\n      <th>608</th>\n      <td>sr:match:42854103</td>\n      <td>2023-08-16T17:00:00+00:00</td>\n      <td>True</td>\n      <td>not_started</td>\n      <td>[{'id': 'sr:competitor:837872', 'name': 'R16P5...</td>\n      <td>doubles</td>\n      <td>True</td>\n      <td>cup</td>\n      <td>round_of_16</td>\n      <td>1.0</td>\n      <td>...</td>\n      <td>R16P6</td>\n      <td>NaN</td>\n      <td>R16</td>\n      <td>NaN</td>\n      <td>NaN</td>\n      <td>away</td>\n      <td>NaN</td>\n      <td>NaN</td>\n      <td>True</td>\n      <td>True</td>\n    </tr>\n    <tr>\n      <th>609</th>\n      <td>sr:match:42854105</td>\n      <td>2023-08-16T17:00:00+00:00</td>\n      <td>True</td>\n      <td>not_started</td>\n      <td>[{'id': 'sr:competitor:837864', 'name': 'R16P1...</td>\n      <td>doubles</td>\n      <td>True</td>\n      <td>cup</td>\n      <td>round_of_16</td>\n      <td>1.0</td>\n      <td>...</td>\n      <td>R16P2</td>\n      <td>NaN</td>\n      <td>R16</td>\n      <td>NaN</td>\n      <td>NaN</td>\n      <td>away</td>\n      <td>NaN</td>\n      <td>NaN</td>\n      <td>True</td>\n      <td>True</td>\n    </tr>\n    <tr>\n      <th>610</th>\n      <td>sr:match:42854119</td>\n      <td>2023-08-16T17:00:00+00:00</td>\n      <td>True</td>\n      <td>not_started</td>\n      <td>[{'id': 'sr:competitor:837892', 'name': 'R16P1...</td>\n      <td>doubles</td>\n      <td>True</td>\n      <td>cup</td>\n      <td>round_of_16</td>\n      <td>1.0</td>\n      <td>...</td>\n      <td>R16P16</td>\n      <td>NaN</td>\n      <td>R16</td>\n      <td>NaN</td>\n      <td>NaN</td>\n      <td>away</td>\n      <td>NaN</td>\n      <td>NaN</td>\n      <td>True</td>\n      <td>True</td>\n    </tr>\n  </tbody>\n</table>\n<p>611 rows × 57 columns</p>\n</div>"
     },
     "execution_count": 19,
     "metadata": {},
     "output_type": "execute_result"
    }
   ],
   "source": [
    "get_weekly_schedule("
   ],
   "metadata": {
    "collapsed": false,
    "ExecuteTime": {
     "end_time": "2023-08-10T10:36:28.768628200Z",
     "start_time": "2023-08-10T10:36:16.622899900Z"
    }
   },
   "id": "c3675efc185a73fa"
  },
  {
   "cell_type": "code",
   "execution_count": 7,
   "outputs": [
    {
     "ename": "NameError",
     "evalue": "name 'df_response' is not defined",
     "output_type": "error",
     "traceback": [
      "\u001B[1;31m---------------------------------------------------------------------------\u001B[0m",
      "\u001B[1;31mNameError\u001B[0m                                 Traceback (most recent call last)",
      "Input \u001B[1;32mIn [7]\u001B[0m, in \u001B[0;36m<cell line: 1>\u001B[1;34m()\u001B[0m\n\u001B[1;32m----> 1\u001B[0m display(\u001B[43mdf_response\u001B[49m)\n",
      "\u001B[1;31mNameError\u001B[0m: name 'df_response' is not defined"
     ]
    }
   ],
   "source": [
    "display(df_response)"
   ],
   "metadata": {
    "collapsed": false,
    "ExecuteTime": {
     "end_time": "2023-08-10T10:04:04.851934600Z",
     "start_time": "2023-08-10T10:04:04.835943100Z"
    }
   },
   "id": "7588aa607352ddd8"
  },
  {
   "cell_type": "code",
   "execution_count": 8,
   "outputs": [
    {
     "ename": "NameError",
     "evalue": "name 'df_list' is not defined",
     "output_type": "error",
     "traceback": [
      "\u001B[1;31m---------------------------------------------------------------------------\u001B[0m",
      "\u001B[1;31mNameError\u001B[0m                                 Traceback (most recent call last)",
      "Input \u001B[1;32mIn [8]\u001B[0m, in \u001B[0;36m<cell line: 1>\u001B[1;34m()\u001B[0m\n\u001B[1;32m----> 1\u001B[0m display(\u001B[43mdf_list\u001B[49m)\n",
      "\u001B[1;31mNameError\u001B[0m: name 'df_list' is not defined"
     ]
    }
   ],
   "source": [
    "display(df_list)"
   ],
   "metadata": {
    "collapsed": false,
    "ExecuteTime": {
     "end_time": "2023-08-10T10:06:54.216970500Z",
     "start_time": "2023-08-10T10:06:54.207413100Z"
    }
   },
   "id": "aa0346bd69b8fb1a"
  },
  {
   "cell_type": "code",
   "execution_count": 1,
   "outputs": [
    {
     "name": "stdout",
     "output_type": "stream",
     "text": [
      "1.1.3\n"
     ]
    }
   ],
   "source": [
    "import sklearn\n",
    "\n",
    "print(sklearn.__version__)\n"
   ],
   "metadata": {
    "collapsed": false,
    "ExecuteTime": {
     "end_time": "2023-08-10T12:34:23.135282Z",
     "start_time": "2023-08-10T12:34:22.713746100Z"
    }
   },
   "id": "6760b9b86ec923dd"
  }
 ],
 "metadata": {
  "kernelspec": {
   "display_name": "Python 3 (ipykernel)",
   "language": "python",
   "name": "python3"
  },
  "language_info": {
   "codemirror_mode": {
    "name": "ipython",
    "version": 3
   },
   "file_extension": ".py",
   "mimetype": "text/x-python",
   "name": "python",
   "nbconvert_exporter": "python",
   "pygments_lexer": "ipython3",
   "version": "3.9.13"
  }
 },
 "nbformat": 4,
 "nbformat_minor": 5
}
