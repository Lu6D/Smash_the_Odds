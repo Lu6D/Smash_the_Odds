{
 "cells": [
  {
   "cell_type": "code",
   "execution_count": 12,
   "outputs": [],
   "source": [
    "import pandas as pd\n",
    "from sklearn.model_selection import train_test_split\n",
    "from sklearn.metrics import classification_report, accuracy_score, confusion_matrix\n",
    "from sklearn.ensemble import RandomForestClassifier\n",
    "from sources.data_pipeline import global_transformer, next_events, history\n",
    "from sources.modelling import Model"
   ],
   "metadata": {
    "collapsed": false,
    "ExecuteTime": {
     "end_time": "2023-08-04T14:15:34.495031700Z",
     "start_time": "2023-08-04T14:15:34.472688400Z"
    }
   },
   "id": "50471c97e089d9bc"
  },
  {
   "cell_type": "code",
   "execution_count": 13,
   "outputs": [
    {
     "data": {
      "text/plain": "            match_id                  scheduled            player1_id  \\\n0  sr:match:41061433  2023-05-15T11:20:00+00:00  sr:competitor:407573   \n1  sr:match:41061401  2023-05-13T14:10:00+00:00  sr:competitor:407573   \n2  sr:match:40788805  2023-05-07T16:30:00+00:00   sr:competitor:46391   \n3  sr:match:40788801  2023-05-05T14:00:00+00:00   sr:competitor:64580   \n4  sr:match:40788873  2023-05-03T14:00:00+00:00   sr:competitor:90080   \n\n             player2_id             winner_id  home_score  away_score  \n0  sr:competitor:254383  sr:competitor:254383         2.0         0.0  \n1   sr:competitor:16822  sr:competitor:407573         0.0         2.0  \n2  sr:competitor:407573  sr:competitor:407573         2.0         1.0  \n3  sr:competitor:407573  sr:competitor:407573         2.0         0.0  \n4  sr:competitor:407573  sr:competitor:407573         2.0         0.0  ",
      "text/html": "<div>\n<style scoped>\n    .dataframe tbody tr th:only-of-type {\n        vertical-align: middle;\n    }\n\n    .dataframe tbody tr th {\n        vertical-align: top;\n    }\n\n    .dataframe thead th {\n        text-align: right;\n    }\n</style>\n<table border=\"1\" class=\"dataframe\">\n  <thead>\n    <tr style=\"text-align: right;\">\n      <th></th>\n      <th>match_id</th>\n      <th>scheduled</th>\n      <th>player1_id</th>\n      <th>player2_id</th>\n      <th>winner_id</th>\n      <th>home_score</th>\n      <th>away_score</th>\n    </tr>\n  </thead>\n  <tbody>\n    <tr>\n      <th>0</th>\n      <td>sr:match:41061433</td>\n      <td>2023-05-15T11:20:00+00:00</td>\n      <td>sr:competitor:407573</td>\n      <td>sr:competitor:254383</td>\n      <td>sr:competitor:254383</td>\n      <td>2.0</td>\n      <td>0.0</td>\n    </tr>\n    <tr>\n      <th>1</th>\n      <td>sr:match:41061401</td>\n      <td>2023-05-13T14:10:00+00:00</td>\n      <td>sr:competitor:407573</td>\n      <td>sr:competitor:16822</td>\n      <td>sr:competitor:407573</td>\n      <td>0.0</td>\n      <td>2.0</td>\n    </tr>\n    <tr>\n      <th>2</th>\n      <td>sr:match:40788805</td>\n      <td>2023-05-07T16:30:00+00:00</td>\n      <td>sr:competitor:46391</td>\n      <td>sr:competitor:407573</td>\n      <td>sr:competitor:407573</td>\n      <td>2.0</td>\n      <td>1.0</td>\n    </tr>\n    <tr>\n      <th>3</th>\n      <td>sr:match:40788801</td>\n      <td>2023-05-05T14:00:00+00:00</td>\n      <td>sr:competitor:64580</td>\n      <td>sr:competitor:407573</td>\n      <td>sr:competitor:407573</td>\n      <td>2.0</td>\n      <td>0.0</td>\n    </tr>\n    <tr>\n      <th>4</th>\n      <td>sr:match:40788873</td>\n      <td>2023-05-03T14:00:00+00:00</td>\n      <td>sr:competitor:90080</td>\n      <td>sr:competitor:407573</td>\n      <td>sr:competitor:407573</td>\n      <td>2.0</td>\n      <td>0.0</td>\n    </tr>\n  </tbody>\n</table>\n</div>"
     },
     "execution_count": 13,
     "metadata": {},
     "output_type": "execute_result"
    }
   ],
   "source": [
    "df_test= pd.read_csv(\"database.nosync/updated_table.csv\")\n",
    "df_test.head()"
   ],
   "metadata": {
    "collapsed": false,
    "ExecuteTime": {
     "end_time": "2023-08-04T14:15:34.531690900Z",
     "start_time": "2023-08-04T14:15:34.482924Z"
    }
   },
   "id": "365046a38ac5f8d1"
  },
  {
   "cell_type": "code",
   "execution_count": 14,
   "outputs": [],
   "source": [
    "train_set = global_transformer(history())"
   ],
   "metadata": {
    "collapsed": false,
    "ExecuteTime": {
     "end_time": "2023-08-04T14:15:34.543353200Z",
     "start_time": "2023-08-04T14:15:34.514245200Z"
    }
   },
   "id": "904e0d906d095637"
  },
  {
   "cell_type": "code",
   "execution_count": 15,
   "outputs": [
    {
     "data": {
      "text/plain": "      winner_is  player1_id  player2_id  atp_difference\n0             1           1          89              88\n1             1           1          82              81\n2             1          24           1             -23\n3             1          16           1             -15\n4             1          11           1             -10\n...         ...         ...         ...             ...\n6995          0         353          30            -323\n6996          0         353         352              -1\n6997          0         353          44            -309\n6998          0           2         353             351\n6999          0         353          60            -293\n\n[8676 rows x 4 columns]",
      "text/html": "<div>\n<style scoped>\n    .dataframe tbody tr th:only-of-type {\n        vertical-align: middle;\n    }\n\n    .dataframe tbody tr th {\n        vertical-align: top;\n    }\n\n    .dataframe thead th {\n        text-align: right;\n    }\n</style>\n<table border=\"1\" class=\"dataframe\">\n  <thead>\n    <tr style=\"text-align: right;\">\n      <th></th>\n      <th>winner_is</th>\n      <th>player1_id</th>\n      <th>player2_id</th>\n      <th>atp_difference</th>\n    </tr>\n  </thead>\n  <tbody>\n    <tr>\n      <th>0</th>\n      <td>1</td>\n      <td>1</td>\n      <td>89</td>\n      <td>88</td>\n    </tr>\n    <tr>\n      <th>1</th>\n      <td>1</td>\n      <td>1</td>\n      <td>82</td>\n      <td>81</td>\n    </tr>\n    <tr>\n      <th>2</th>\n      <td>1</td>\n      <td>24</td>\n      <td>1</td>\n      <td>-23</td>\n    </tr>\n    <tr>\n      <th>3</th>\n      <td>1</td>\n      <td>16</td>\n      <td>1</td>\n      <td>-15</td>\n    </tr>\n    <tr>\n      <th>4</th>\n      <td>1</td>\n      <td>11</td>\n      <td>1</td>\n      <td>-10</td>\n    </tr>\n    <tr>\n      <th>...</th>\n      <td>...</td>\n      <td>...</td>\n      <td>...</td>\n      <td>...</td>\n    </tr>\n    <tr>\n      <th>6995</th>\n      <td>0</td>\n      <td>353</td>\n      <td>30</td>\n      <td>-323</td>\n    </tr>\n    <tr>\n      <th>6996</th>\n      <td>0</td>\n      <td>353</td>\n      <td>352</td>\n      <td>-1</td>\n    </tr>\n    <tr>\n      <th>6997</th>\n      <td>0</td>\n      <td>353</td>\n      <td>44</td>\n      <td>-309</td>\n    </tr>\n    <tr>\n      <th>6998</th>\n      <td>0</td>\n      <td>2</td>\n      <td>353</td>\n      <td>351</td>\n    </tr>\n    <tr>\n      <th>6999</th>\n      <td>0</td>\n      <td>353</td>\n      <td>60</td>\n      <td>-293</td>\n    </tr>\n  </tbody>\n</table>\n<p>8676 rows × 4 columns</p>\n</div>"
     },
     "execution_count": 15,
     "metadata": {},
     "output_type": "execute_result"
    }
   ],
   "source": [
    "train_set"
   ],
   "metadata": {
    "collapsed": false,
    "ExecuteTime": {
     "end_time": "2023-08-04T14:15:34.575065100Z",
     "start_time": "2023-08-04T14:15:34.550351900Z"
    }
   },
   "id": "330215f3d09b622"
  },
  {
   "cell_type": "code",
   "execution_count": 16,
   "outputs": [
    {
     "name": "stdout",
     "output_type": "stream",
     "text": [
      "0.5604838709677419\n",
      "classe prédite    0    1\n",
      "classe réelle           \n",
      "0               489  380\n",
      "1               383  484\n"
     ]
    }
   ],
   "source": [
    "rf= RandomForestClassifier()\n",
    "data= train_set.drop(['winner_is'], axis=1)\n",
    "target= train_set['winner_is']\n",
    "X_train,X_test, y_train, y_test= train_test_split(data,target, test_size=0.2)\n",
    "rf.fit(X_train, y_train)\n",
    "y_pred=rf.predict(X_test)\n",
    "acc=accuracy_score(y_test, y_pred)\n",
    "print (acc)\n",
    "cm= pd.crosstab(y_test, y_pred, rownames=['classe réelle'], colnames=['classe prédite'])\n",
    "print(cm)\n"
   ],
   "metadata": {
    "collapsed": false,
    "ExecuteTime": {
     "end_time": "2023-08-04T14:15:35.324254700Z",
     "start_time": "2023-08-04T14:15:34.562065300Z"
    }
   },
   "id": "d79ceb8b3eaa643c"
  },
  {
   "cell_type": "markdown",
   "source": [
    "#retest avec fonction dans modelling, retrait en commentaire de l31 32 33 34 35, 46 à 49, 110 dans preprocessor.py pour régler le pb de competitors + modfcde la ligne 35 avec retrait de df_player1 et df_player2 et suppression de la colonne competitors dans planning_table.csv"
   ],
   "metadata": {
    "collapsed": false
   },
   "id": "aeac2783746b266"
  },
  {
   "cell_type": "code",
   "execution_count": 21,
   "outputs": [
    {
     "name": "stdout",
     "output_type": "stream",
     "text": [
      "              precision    recall  f1-score   support\n",
      "\n",
      "           0       0.57      0.58      0.57       870\n",
      "           1       0.57      0.55      0.56       866\n",
      "\n",
      "    accuracy                           0.57      1736\n",
      "   macro avg       0.57      0.57      0.57      1736\n",
      "weighted avg       0.57      0.57      0.57      1736\n"
     ]
    }
   ],
   "source": [
    "mon_model= Model()\n",
    "mon_model.modelling()"
   ],
   "metadata": {
    "collapsed": false,
    "ExecuteTime": {
     "end_time": "2023-08-04T14:35:41.607715900Z",
     "start_time": "2023-08-04T14:33:34.829612200Z"
    }
   },
   "id": "aee672884c38b759"
  },
  {
   "cell_type": "code",
   "execution_count": 25,
   "outputs": [
    {
     "name": "stdout",
     "output_type": "stream",
     "text": [
      "0.565668202764977\n"
     ]
    }
   ],
   "source": [
    "weekly_accuracy=mon_model.get_accuracy()\n",
    "print(weekly_accuracy)"
   ],
   "metadata": {
    "collapsed": false,
    "ExecuteTime": {
     "end_time": "2023-08-04T14:47:29.954553600Z",
     "start_time": "2023-08-04T14:47:29.941597800Z"
    }
   },
   "id": "d85c6dcc3182f0df"
  },
  {
   "cell_type": "code",
   "execution_count": null,
   "outputs": [],
   "source": [
    "# copie dans accuracy.txt\n",
    "with open(\"accuracy.txt\", \"w\") as f:\n",
    "    f.write(str(weekly_accuracy))\n"
   ],
   "metadata": {
    "collapsed": false
   },
   "id": "7ad469fd74fe3112"
  },
  {
   "cell_type": "code",
   "execution_count": 30,
   "outputs": [],
   "source": [
    "if weekly_accuracy<0.55:\n",
    "    print (\"alert: need to fit the model again\")"
   ],
   "metadata": {
    "collapsed": false,
    "ExecuteTime": {
     "end_time": "2023-08-04T14:49:09.666985400Z",
     "start_time": "2023-08-04T14:49:09.644297300Z"
    }
   },
   "id": "1aa480a005fba478"
  }
 ],
 "metadata": {
  "kernelspec": {
   "display_name": "Python 3",
   "language": "python",
   "name": "python3"
  },
  "language_info": {
   "codemirror_mode": {
    "name": "ipython",
    "version": 2
   },
   "file_extension": ".py",
   "mimetype": "text/x-python",
   "name": "python",
   "nbconvert_exporter": "python",
   "pygments_lexer": "ipython2",
   "version": "2.7.6"
  }
 },
 "nbformat": 4,
 "nbformat_minor": 5
}
